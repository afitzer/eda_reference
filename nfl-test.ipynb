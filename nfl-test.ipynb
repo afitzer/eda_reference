{
 "cells": [
  {
   "cell_type": "code",
   "execution_count": 1,
   "metadata": {},
   "outputs": [],
   "source": [
    "import requests\n",
    "from bs4 import BeautifulSoup\n",
    "import model\n",
    "import pandas as pd\n",
    "from datetime import date"
   ]
  },
  {
   "cell_type": "code",
   "execution_count": 2,
   "metadata": {},
   "outputs": [],
   "source": [
    "# Create a Response object called r\n",
    "r_passing = requests.get(\n",
    "    'https://www.nfl.com/stats/team-stats/offense/passing/2023/reg/all', timeout=1.0)\n",
    "\n",
    "r_receiving = requests.get(\n",
    "    'https://www.nfl.com/stats/team-stats/offense/receiving/2023/reg/all', timeout=1.0)\n",
    "\n",
    "r_rushing = requests.get(\n",
    "    'https://www.nfl.com/stats/team-stats/offense/rushing/2023/reg/all', timeout=1.0)"
   ]
  },
  {
   "cell_type": "code",
   "execution_count": 3,
   "metadata": {},
   "outputs": [],
   "source": [
    "# Create a Beautiful Soup object called soup\n",
    "soup_passing = BeautifulSoup(r_passing.text, 'html.parser')\n",
    "soup_receiving = BeautifulSoup(r_receiving.text, 'html.parser')\n",
    "soup_rushing = BeautifulSoup(r_rushing.text, 'html.parser')"
   ]
  },
  {
   "cell_type": "code",
   "execution_count": 4,
   "metadata": {},
   "outputs": [],
   "source": [
    "# Get the table\n",
    "passing_table_in_html = soup_passing.find('table')\n",
    "receiving_table_in_html = soup_receiving.find('table')\n",
    "rushing_table_in_html = soup_rushing.find('table')"
   ]
  },
  {
   "cell_type": "code",
   "execution_count": 5,
   "metadata": {},
   "outputs": [],
   "source": [
    "# Get data from the table head and table body\n",
    "passing_table_head = model.get_table_head_fields_as_list(passing_table_in_html)\n",
    "receiving_table_head = model.get_table_head_fields_as_list(receiving_table_in_html)\n",
    "rushing_table_head = model.get_table_head_fields_as_list(rushing_table_in_html)\n",
    "\n",
    "passing_table_body = model.get_table_body_as_lists(passing_table_in_html)\n",
    "receiving_table_body = model.get_table_body_as_lists(receiving_table_in_html)\n",
    "rushing_table_body = model.get_table_body_as_lists(rushing_table_in_html)"
   ]
  },
  {
   "cell_type": "code",
   "execution_count": 6,
   "metadata": {},
   "outputs": [],
   "source": [
    "# Join the table head data and table body data\n",
    "passing_table_data = [passing_table_head] + passing_table_body\n",
    "receiving_table_data = [receiving_table_head] + receiving_table_body\n",
    "rushing_table_data = [rushing_table_head] + rushing_table_body"
   ]
  },
  {
   "cell_type": "code",
   "execution_count": 9,
   "metadata": {},
   "outputs": [],
   "source": [
    "# Create a Pandas DataFrame\n",
    "passing_df = pd.DataFrame(data=passing_table_data)\n",
    "receiving_df = pd.DataFrame(data=receiving_table_data)\n",
    "rushing_df = pd.DataFrame(data=rushing_table_data)"
   ]
  },
  {
   "cell_type": "code",
   "execution_count": 11,
   "metadata": {},
   "outputs": [],
   "source": [
    "# Make the first row the column names\n",
    "passing_columns = passing_df.iloc[0]\n",
    "receiving_columns = receiving_df.iloc[0]\n",
    "rushing_columns = rushing_df.iloc[0]\n",
    "\n",
    "passing_df = passing_df[1:]\n",
    "receiving_df = receiving_df[1:]\n",
    "rushing_df = rushing_df[1:]\n",
    "\n",
    "passing_df.columns = passing_columns\n",
    "receiving_df.columns = receiving_columns\n",
    "rushing_df.columns = rushing_columns"
   ]
  },
  {
   "cell_type": "code",
   "execution_count": 13,
   "metadata": {},
   "outputs": [],
   "source": [
    "# Clean up the Team column to include only the Team name\n",
    "passing_df['Team'] = passing_df['Team'].str.split(\"\\n\").str.get(0)\n",
    "receiving_df['Team'] = receiving_df['Team'].str.split(\"\\n\").str.get(0)\n",
    "rushing_df['Team'] = rushing_df['Team'].str.split(\"\\n\").str.get(0)"
   ]
  },
  {
   "cell_type": "code",
   "execution_count": 23,
   "metadata": {},
   "outputs": [],
   "source": [
    "# Rename the columns to be more easily understood, since there are common fields across files\n",
    "passing_df_renamed = passing_df.rename(\n",
    "    columns={\n",
    "        \"Att\": \"Passing Attempts\",\n",
    "        \"Cmp\": \"Passing Completions\",\n",
    "        \"Cmp %\": \"Passing Completion %\",\n",
    "        \"Yds/Att\": \"Passing Yards/Attempt\",\n",
    "        \"TD\": \"Passing TDs\",\n",
    "        \"INT\": \"Passing Interceptions\",\n",
    "        \"Rate\": \"Passing Rate\",\n",
    "        \"1st\": \"Passing 1st Downs\",\n",
    "        \"1st%\": \"Passing 1st Down %\",\n",
    "        \"20+\": \"Passing 20+\",\n",
    "        \"40+\": \"Passing 40+\",\n",
    "        \"Lng\": \"Passing Longest\",\n",
    "        \"Sck\": \"Passing Sacks\",\n",
    "        \"SckY\": \"Passing Sack Yards\",\n",
    "    }\n",
    ")\n",
    "\n",
    "receiving_df_renamed = receiving_df.rename(\n",
    "    columns={\n",
    "        \"Rec\": \"Receiving Receptions\",\n",
    "        \"Yds\": \"Receiving Yards\",\n",
    "        \"Yds/Rec\": \"Receiving Yards/Reception\",\n",
    "        \"TD\": \"Receiving TDs\",\n",
    "        \"20+\": \"Receiving 20+\",\n",
    "        \"40+\": \"Receiving 40+\",\n",
    "        \"Lng\": \"Receiving Longest\",\n",
    "        \"Rec 1st\": \"Receiving 1st Downs\",\n",
    "        \"Rec 1st%\": \"Receiving 1st Down %\",\n",
    "        \"Rec FUM\": \"Receiving Fumbles\",\n",
    "    }\n",
    ")\n",
    "\n",
    "rushing_df_renamed = rushing_df.rename(\n",
    "    columns={\n",
    "        \"Att\": \"Rushing Attempts\",\n",
    "        \"Rush Yds\": \"Rushing Yards\",\n",
    "        \"YPC\": \"Rushing Yards/Carry\",\n",
    "        \"TD\": \"Rushing TDs\",\n",
    "        \"20+\": \"Rushing 20+\",\n",
    "        \"40+\": \"Rushing 40+\",\n",
    "        \"Lng\": \"Rushing Longest\",\n",
    "        \"Rush 1st\": \"Rushing 1st Downs\",\n",
    "        \"Rush 1st%\": \"Rushing 1st Down %\",\n",
    "        \"Rush FUM\": \"Rushing Fumbles\",\n",
    "    }\n",
    ")"
   ]
  },
  {
   "cell_type": "code",
   "execution_count": 16,
   "metadata": {},
   "outputs": [],
   "source": [
    "# Grab todays date and format it for the csv file\n",
    "today = date.today()\n",
    "d1 = today.strftime(\"%m-%d-%y\")"
   ]
  },
  {
   "cell_type": "code",
   "execution_count": 25,
   "metadata": {},
   "outputs": [],
   "source": [
    "# Export the Pandas df to a csv file\n",
    "passing_df_renamed.to_csv(f\"data/team_passing_{d1}.csv\", index=False)\n",
    "receiving_df_renamed.to_csv(f\"data/team_receiving_{d1}.csv\", index=False)\n",
    "rushing_df_renamed.to_csv(f\"data/team_rushing_{d1}.csv\", index=False)"
   ]
  }
 ],
 "metadata": {
  "kernelspec": {
   "display_name": ".venv",
   "language": "python",
   "name": "python3"
  },
  "language_info": {
   "codemirror_mode": {
    "name": "ipython",
    "version": 3
   },
   "file_extension": ".py",
   "mimetype": "text/x-python",
   "name": "python",
   "nbconvert_exporter": "python",
   "pygments_lexer": "ipython3",
   "version": "3.9.1"
  },
  "orig_nbformat": 4
 },
 "nbformat": 4,
 "nbformat_minor": 2
}
